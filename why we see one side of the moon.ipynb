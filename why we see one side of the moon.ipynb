{
 "cells": [
  {
   "cell_type": "code",
   "execution_count": null,
   "metadata": {
    "scrolled": false
   },
   "outputs": [],
   "source": [
    "#importing all modules from the vpython \n",
    "from vpython import*\n",
    "#importing the math module\n",
    "import math\n",
    "#constructing a canvas where the animation can be placed and giving it a title\n",
    "scene = canvas(title='Non-rotating moon')\n",
    "\n",
    "#constructing a lamp to illuminate the object being used\n",
    "lamp = local_light(pos=vector(0,0,0), color=color.white)\n",
    "#constructing an Earth model with positions, texture and radius    \n",
    "earth = sphere(pos = vector(0,0,0), radius = 20, texture = textures.earth)\n",
    "#constructing a moon model with positions, texture, radius and trails\n",
    "moon = sphere(pos = vector (10, 0, 0), radius =10, \n",
    "              texture= 'https://i.imgur.com/62hTev9b.jpg', make_trail = True, trail_type = \"points\", interval = 10) \n",
    "\n",
    "#defining variable \"i\" as a value of 0   \n",
    "i = 0\n",
    "\n",
    "#defining a while loop so that we can have the moon orbit around earth and rotate on its axis\n",
    "while True:\n",
    "    #giving the animation speed a value\n",
    "    rate(28) \n",
    "    #giving Earth an angle and rotation around its axis\n",
    "    earth.rotate(angle=(2*pi/365), axis=vector(0,1,0), origin=vector(0,0,0))\n",
    "    #defining \"i\" as a new value   \n",
    "    i = i - ((2*pi)/365)\n",
    "    #defining x and z as new values as the while loop proceeds\n",
    "    x = 100*cos(i)\n",
    "    z = 100*sin(i)\n",
    "    #putting in the previous x and z values into the position of the moon that the moon rotates in a circle\n",
    "    moon.pos = vector(x,0,z) \n",
    "    #rotating the moon with an angle in radians, here the angle is 0 so we see what happens when the\n",
    "    #moon doesnt rotate, and an axis\n",
    "    moon.rotate(angle = 0 ,axis=vector(-0.15, 1, 0), origin = moon.pos)\n"
   ]
  },
  {
   "cell_type": "code",
   "execution_count": null,
   "metadata": {},
   "outputs": [
    {
     "data": {
      "text/html": [
       "<div id=\"glowscript\" class=\"glowscript\"></div>"
      ],
      "text/plain": [
       "<IPython.core.display.HTML object>"
      ]
     },
     "metadata": {},
     "output_type": "display_data"
    },
    {
     "data": {
      "application/javascript": [
       "if (typeof Jupyter !== \"undefined\") { window.__context = { glowscript_container: $(\"#glowscript\").removeAttr(\"id\")};}else{ element.textContent = ' ';}"
      ],
      "text/plain": [
       "<IPython.core.display.Javascript object>"
      ]
     },
     "metadata": {},
     "output_type": "display_data"
    },
    {
     "name": "stdout",
     "output_type": "stream",
     "text": [
      "put the angle in radians that you want the moon to rotate through :20\n"
     ]
    },
    {
     "data": {
      "text/html": [
       "<div id=\"glowscript\" class=\"glowscript\"></div>"
      ],
      "text/plain": [
       "<IPython.core.display.HTML object>"
      ]
     },
     "metadata": {},
     "output_type": "display_data"
    },
    {
     "data": {
      "application/javascript": [
       "if (typeof Jupyter !== \"undefined\") { window.__context = { glowscript_container: $(\"#glowscript\").removeAttr(\"id\")};}else{ element.textContent = ' ';}"
      ],
      "text/plain": [
       "<IPython.core.display.Javascript object>"
      ]
     },
     "metadata": {},
     "output_type": "display_data"
    },
    {
     "data": {
      "application/javascript": [
       "if (typeof Jupyter !== \"undefined\") {require.undef(\"nbextensions/vpython_libraries/glow.min\");}else{element.textContent = ' ';}"
      ],
      "text/plain": [
       "<IPython.core.display.Javascript object>"
      ]
     },
     "metadata": {},
     "output_type": "display_data"
    },
    {
     "data": {
      "application/javascript": [
       "if (typeof Jupyter !== \"undefined\") {require.undef(\"nbextensions/vpython_libraries/glowcomm\");}else{element.textContent = ' ';}"
      ],
      "text/plain": [
       "<IPython.core.display.Javascript object>"
      ]
     },
     "metadata": {},
     "output_type": "display_data"
    },
    {
     "data": {
      "application/javascript": [
       "if (typeof Jupyter !== \"undefined\") {require.undef(\"nbextensions/vpython_libraries/jquery-ui.custom.min\");}else{element.textContent = ' ';}"
      ],
      "text/plain": [
       "<IPython.core.display.Javascript object>"
      ]
     },
     "metadata": {},
     "output_type": "display_data"
    },
    {
     "data": {
      "application/javascript": [
       "if (typeof Jupyter !== \"undefined\") {require([\"nbextensions/vpython_libraries/glow.min\"], function(){console.log(\"GLOW LOADED\");});}else{element.textContent = ' ';}"
      ],
      "text/plain": [
       "<IPython.core.display.Javascript object>"
      ]
     },
     "metadata": {},
     "output_type": "display_data"
    },
    {
     "data": {
      "application/javascript": [
       "if (typeof Jupyter !== \"undefined\") {require([\"nbextensions/vpython_libraries/glowcomm\"], function(){console.log(\"GLOWCOMM LOADED\");});}else{element.textContent = ' ';}"
      ],
      "text/plain": [
       "<IPython.core.display.Javascript object>"
      ]
     },
     "metadata": {},
     "output_type": "display_data"
    },
    {
     "data": {
      "application/javascript": [
       "if (typeof Jupyter !== \"undefined\") {require([\"nbextensions/vpython_libraries/jquery-ui.custom.min\"], function(){console.log(\"JQUERY LOADED\");});}else{element.textContent = ' ';}"
      ],
      "text/plain": [
       "<IPython.core.display.Javascript object>"
      ]
     },
     "metadata": {},
     "output_type": "display_data"
    }
   ],
   "source": [
    "#importing all modules from the vpython \n",
    "from vpython import*\n",
    "#importing the math module\n",
    "import math\n",
    "#putting in an input function for user to input their own angle value\n",
    "rad=float(input('put the angle in radians that you want the moon to rotate through :'))\n",
    "#constructing a canvas where the animation can be placed\n",
    "scene = canvas(title='random speed of rotation')\n",
    "\n",
    "#constructing a lamp to illuminate the object being used\n",
    "lamp = local_light(pos=vector(0,0,0), color=color.white)\n",
    "#constructing an Earth model with positions, texture and radius    \n",
    "earth = sphere(pos = vector(0,0,0), radius = 20, texture = textures.earth)\n",
    "#constructing a moon model with positions, texture, radius and trails\n",
    "moon = sphere(pos = vector (10, 0, 0), radius =10, \n",
    "              texture= 'https://i.imgur.com/62hTev9b.jpg', make_trail = True, trail_type = \"points\", interval = 10) \n",
    "\n",
    "#defining variable \"i\" as a value of 0   \n",
    "i = 0\n",
    "\n",
    "#defining a while loop so that we can have the moon orbit around earth and rotate on its axis\n",
    "while True:\n",
    "    #giving the animation speed a value\n",
    "    rate(28) \n",
    "    #giving Earth an angle and rotation around its axis\n",
    "    earth.rotate(angle=(2*pi/365), axis=vector(0,1,0), origin=vector(0,0,0))\n",
    "    #defining \"i\" as a new value   \n",
    "    i = i - ((2*pi)/365)\n",
    "    #defining x and z as new values as the while loop proceeds\n",
    "    x = 100*cos(i)\n",
    "    z = 100*sin(i)\n",
    "    #putting in the previous x and z values into the position of the moon that the moon rotates in a circle\n",
    "    moon.pos = vector(x,0,z) \n",
    "    #rotating the moon with an angle in radians that is random as we dont care the speed of rotation, and an axis\n",
    "    moon.rotate(angle = rad ,axis=vector(-0.15, 1, 0), origin = moon.pos)\n"
   ]
  },
  {
   "cell_type": "code",
   "execution_count": null,
   "metadata": {},
   "outputs": [],
   "source": [
    "#importing all modules from the vpython \n",
    "from vpython import*\n",
    "#importing the math module\n",
    "import math\n",
    "#constructing a canvas where the animation can be placed and giving a title for the animation\n",
    "scene = canvas(title='proper rate of revolution')\n",
    "\n",
    "#constructing a lamp to illuminate the object being used\n",
    "lamp = local_light(pos=vector(0,0,0), color=color.white)\n",
    "#constructing an Earth model with positions, texture and radius    \n",
    "earth = sphere(pos = vector(0,0,0), radius = 20, texture = textures.earth)\n",
    "#constructing a moon model with positions, texture, radius and trails\n",
    "moon = sphere(pos = vector (10, 0, 0), radius =10, \n",
    "              texture={'file':'https://i.imgur.com/PS0vNryb.jpg','bumpmap':bumpmaps.stucco},make_trail = True,\n",
    "              trail_type = \"points\", interval = 10) \n",
    "\n",
    "#defining variable \"i\" as a value of 0   \n",
    "i = 0\n",
    "#defining a while loop so that we can have the moon orbit around earth and rotate on its axis\n",
    "while True:\n",
    "    #giving the animation speed a value\n",
    "    rate(30) \n",
    "    #giving Earth an angle and rotation around its axis and placing it on the origin\n",
    "    earth.rotate(angle=(2*pi/365), axis=vector(0,1,0), origin=vector(0,0,0))\n",
    "    #defining \"i\" as a new value   \n",
    "    i = i - ((2*pi)/365)\n",
    "    #defining x and z as new values as the while loop proceeds\n",
    "    x = 100*cos(i)\n",
    "    z = 100*sin(i)\n",
    "    #putting in the previous x and z values into the position of the moon that the moon rotates in a circle\n",
    "    moon.pos = vector(x,0,z) \n",
    "    #rotating the moon with the right angle in radians so that only one side of the moon is facing earth, and an axis\n",
    "    moon.rotate(angle = (2*pi)/365 ,axis=vector(0, 0.5, 0), origin = moon.pos)\n"
   ]
  },
  {
   "cell_type": "code",
   "execution_count": null,
   "metadata": {},
   "outputs": [],
   "source": []
  }
 ],
 "metadata": {
  "kernelspec": {
   "display_name": "Python 3",
   "language": "python",
   "name": "python3"
  },
  "language_info": {
   "codemirror_mode": {
    "name": "ipython",
    "version": 3
   },
   "file_extension": ".py",
   "mimetype": "text/x-python",
   "name": "python",
   "nbconvert_exporter": "python",
   "pygments_lexer": "ipython3",
   "version": "3.7.3"
  }
 },
 "nbformat": 4,
 "nbformat_minor": 2
}
